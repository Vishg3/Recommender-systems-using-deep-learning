{
 "cells": [
  {
   "cell_type": "code",
   "execution_count": 2,
   "metadata": {},
   "outputs": [],
   "source": [
    "import numpy as np\n",
    "import pandas as pd\n",
    "import matplotlib.pyplot as plt\n",
    "from sklearn.model_selection import train_test_split\n",
    "from sklearn.preprocessing import LabelEncoder\n",
    "from sklearn.metrics import mean_squared_error\n",
    "from tensorflow.keras.models import Sequential\n",
    "from tensorflow.keras.layers import Embedding, Flatten, Dense\n",
    "from tensorflow.keras import optimizers"
   ]
  },
  {
   "cell_type": "code",
   "execution_count": 3,
   "metadata": {},
   "outputs": [],
   "source": [
    "# Load the dataset\n",
    "data = pd.read_csv('ratings_small.csv')"
   ]
  },
  {
   "cell_type": "code",
   "execution_count": 4,
   "metadata": {},
   "outputs": [],
   "source": [
    "# Encode user and movie IDs to start from 0\n",
    "user_encoder = LabelEncoder()\n",
    "data['userId'] = user_encoder.fit_transform(data['userId'])\n",
    "movie_encoder = LabelEncoder()\n",
    "data['movieId'] = movie_encoder.fit_transform(data['movieId'])"
   ]
  },
  {
   "cell_type": "code",
   "execution_count": 5,
   "metadata": {},
   "outputs": [],
   "source": [
    "# Split the data into train and test sets\n",
    "train_data, test_data = train_test_split(data, test_size=0.2, random_state=42)"
   ]
  },
  {
   "cell_type": "code",
   "execution_count": 6,
   "metadata": {},
   "outputs": [],
   "source": [
    "# Get the number of unique users and movies\n",
    "n_users = data['userId'].nunique()\n",
    "n_movies = data['movieId'].nunique()"
   ]
  },
  {
   "cell_type": "code",
   "execution_count": 7,
   "metadata": {},
   "outputs": [],
   "source": [
    "# Define the neural network model\n",
    "model = Sequential()\n",
    "model.add(Embedding(n_users, 10, input_length=1))\n",
    "model.add(Flatten())\n",
    "model.add(Dense(1, activation='linear'))"
   ]
  },
  {
   "cell_type": "code",
   "execution_count": 8,
   "metadata": {},
   "outputs": [],
   "source": [
    "# Compile the model\n",
    "model.compile(optimizer=optimizers.Adam(), loss='mse')"
   ]
  },
  {
   "cell_type": "code",
   "execution_count": 9,
   "metadata": {},
   "outputs": [
    {
     "name": "stdout",
     "output_type": "stream",
     "text": [
      "Epoch 1/10\n",
      "2501/2501 [==============================] - 3s 918us/step - loss: 3.0101\n",
      "Epoch 2/10\n",
      "2501/2501 [==============================] - 2s 906us/step - loss: 0.9472\n",
      "Epoch 3/10\n",
      "2501/2501 [==============================] - 2s 904us/step - loss: 0.9419\n",
      "Epoch 4/10\n",
      "2501/2501 [==============================] - 2s 900us/step - loss: 0.9417\n",
      "Epoch 5/10\n",
      "2501/2501 [==============================] - 2s 990us/step - loss: 0.9411\n",
      "Epoch 6/10\n",
      "2501/2501 [==============================] - 2s 911us/step - loss: 0.9392\n",
      "Epoch 7/10\n",
      "2501/2501 [==============================] - 2s 916us/step - loss: 0.9384\n",
      "Epoch 8/10\n",
      "2501/2501 [==============================] - 2s 908us/step - loss: 0.9373\n",
      "Epoch 9/10\n",
      "2501/2501 [==============================] - 2s 910us/step - loss: 0.9369\n",
      "Epoch 10/10\n",
      "2501/2501 [==============================] - 2s 918us/step - loss: 0.9361\n"
     ]
    }
   ],
   "source": [
    "# Train the model\n",
    "history = model.fit(train_data['userId'], train_data['rating'], epochs=10, verbose=1)"
   ]
  },
  {
   "cell_type": "code",
   "execution_count": 10,
   "metadata": {},
   "outputs": [],
   "source": [
    "# Make predictions on the test set\n",
    "predictions = model.predict(test_data['userId']).flatten()"
   ]
  },
  {
   "cell_type": "code",
   "execution_count": 11,
   "metadata": {},
   "outputs": [
    {
     "name": "stdout",
     "output_type": "stream",
     "text": [
      "Predictions:\n",
      "       userId  movieId  rating  predicted_rating\n",
      "19090     127      832     5.0          3.741890\n",
      "99678     664     3712     1.0          3.389378\n",
      "18455     119     3205     3.0          3.588324\n",
      "35755     256     1028     4.0          3.566339\n",
      "66536     467     4638     4.0          3.013483\n",
      "...       ...      ...     ...               ...\n",
      "74070     517       60     2.0          3.622783\n",
      "56749     407      862     5.0          3.611487\n",
      "27665     199     8262     3.5          3.212114\n",
      "23192     164       75     3.0          2.683520\n",
      "89397     595      427     4.0          3.602985\n",
      "\n",
      "[20001 rows x 4 columns]\n"
     ]
    }
   ],
   "source": [
    "# Display the predictions\n",
    "test_data['predicted_rating'] = predictions\n",
    "print(\"Predictions:\")\n",
    "print(test_data[['userId', 'movieId', 'rating', 'predicted_rating']])"
   ]
  },
  {
   "cell_type": "code",
   "execution_count": 12,
   "metadata": {},
   "outputs": [
    {
     "name": "stdout",
     "output_type": "stream",
     "text": [
      "RMSE: 0.9661995797120155\n"
     ]
    }
   ],
   "source": [
    "# Calculate RMSE\n",
    "rmse = np.sqrt(mean_squared_error(test_data['rating'].values, predictions))\n",
    "print('RMSE:', rmse)"
   ]
  },
  {
   "cell_type": "code",
   "execution_count": 13,
   "metadata": {},
   "outputs": [
    {
     "data": {
      "image/png": "[encoded data removed]",
      "text/plain": [
       "<Figure size 432x288 with 1 Axes>"
      ]
     },
     "metadata": {
      "needs_background": "light"
     },
     "output_type": "display_data"
    }
   ],
   "source": [
    "# Plot the loss over epochs\n",
    "plt.plot(history.history['loss'])\n",
    "plt.title('Model Loss')\n",
    "plt.xlabel('Epoch')\n",
    "plt.ylabel('Loss')\n",
    "plt.show()"
   ]
  }
 ],
 "metadata": {
  "kernelspec": {
   "display_name": "Python 3",
   "language": "python",
   "name": "python3"
  },
  "language_info": {
   "codemirror_mode": {
    "name": "ipython",
    "version": 3
   },
   "file_extension": ".py",
   "mimetype": "text/x-python",
   "name": "python",
   "nbconvert_exporter": "python",
   "pygments_lexer": "ipython3",
   "version": "3.7.6"
  }
 },
 "nbformat": 4,
 "nbformat_minor": 4
}
